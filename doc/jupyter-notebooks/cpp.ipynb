{
 "cells": [
  {
   "cell_type": "markdown",
   "id": "16fb0fc1-7dc2-4e16-9612-b9c5204677fb",
   "metadata": {},
   "source": [
    "# Load a Python plugin\n",
    "\n",
    "It is assumed this Notebook is running in an environment with OpenAssetIO and OpenAssetIO-MediaCreation installed into it, such that libraries and headers are trivially discoverable (e.g. Conda environment described in the README)."
   ]
  },
  {
   "cell_type": "markdown",
   "id": "ac30f199-81bf-48a6-ad05-c39d2f9c1b07",
   "metadata": {},
   "source": [
    "#### Load Python library\n",
    "\n",
    "Load the Python available in the Conda environment this Notebook is running in.\n",
    "\n",
    "Use xeus-cling pragma extension to add search paths and load the library."
   ]
  },
  {
   "cell_type": "code",
   "execution_count": null,
   "id": "995f7112-a609-4807-b0e6-fccbfbd8ceb6",
   "metadata": {},
   "outputs": [],
   "source": [
    "#pragma cling add_library_path(\"$CONDA_PREFIX/lib\")"
   ]
  },
  {
   "cell_type": "code",
   "execution_count": null,
   "id": "7f8d478e-94df-42ed-9dbc-98ecf20d0221",
   "metadata": {},
   "outputs": [],
   "source": [
    "#pragma cling load(\"python3.11\")"
   ]
  },
  {
   "cell_type": "markdown",
   "id": "d022a1ac-8e3e-4a85-a64a-55df96035807",
   "metadata": {},
   "source": [
    "#### Load OpenAssetIO library"
   ]
  },
  {
   "cell_type": "code",
   "execution_count": null,
   "id": "d18e5ed2-466e-4ec1-bd78-c77a879426a5",
   "metadata": {},
   "outputs": [],
   "source": [
    "#pragma cling load(\"openassetio-python\")"
   ]
  },
  {
   "cell_type": "markdown",
   "id": "3344a3e5-b497-4443-8580-4d6429d60d3b",
   "metadata": {},
   "source": [
    "#### Bootstrap Python"
   ]
  },
  {
   "cell_type": "code",
   "execution_count": null,
   "id": "0d80351f-98aa-4c12-8c21-863706b85c18",
   "metadata": {},
   "outputs": [],
   "source": [
    "#include <python3.11/Python.h>\n",
    "Py_Initialize();"
   ]
  },
  {
   "cell_type": "markdown",
   "id": "59cde55a-c9aa-47a3-828b-604ea21cd503",
   "metadata": {},
   "source": [
    "## Define a logger"
   ]
  },
  {
   "cell_type": "code",
   "execution_count": null,
   "id": "d9b80e20-f699-42bf-bd93-efcb03a162b9",
   "metadata": {},
   "outputs": [],
   "source": [
    "#include <iostream>\n",
    "\n",
    "#include <openassetio/log/LoggerInterface.hpp>\n",
    "\n",
    "struct Logger : openassetio::log::LoggerInterface {\n",
    "  void log(Severity severity, const openassetio::Str& message) override {\n",
    "      std::cout << message << \"\\n\";\n",
    "  }\n",
    "};\n",
    "\n",
    "auto logger = std::make_shared<Logger>();"
   ]
  },
  {
   "cell_type": "markdown",
   "id": "ac28e960-f875-4fb9-9b04-834ab359a435",
   "metadata": {},
   "source": [
    "## Query Python plugins"
   ]
  },
  {
   "cell_type": "code",
   "execution_count": null,
   "id": "673e973c-91cf-4aa1-8a33-1ae9acb8dac8",
   "metadata": {},
   "outputs": [],
   "source": [
    "#include <memory>\n",
    "\n",
    "#include <openassetio/hostApi/ManagerImplementationFactoryInterface.hpp>\n",
    "#include <openassetio/python/hostApi.hpp>\n",
    "\n",
    "const auto factory = openassetio::python::hostApi::createPythonPluginSystemManagerImplementationFactory(logger);\n",
    "const openassetio::Identifiers identifiers = factory->identifiers();\n",
    "\n",
    "identifiers"
   ]
  },
  {
   "cell_type": "markdown",
   "id": "4d2b3ac0-f9b3-48b6-a34a-ed3563e99e9b",
   "metadata": {},
   "source": [
    "## Define host interface"
   ]
  },
  {
   "cell_type": "code",
   "execution_count": null,
   "id": "d84edc52-2529-41d8-b667-29ec462c1360",
   "metadata": {},
   "outputs": [],
   "source": [
    "#include <openassetio/hostApi/HostInterface.hpp>\n",
    "\n",
    "struct Host : openassetio::hostApi::HostInterface {\n",
    "  openassetio::Identifier identifier() const { return \"org.demo\"; }\n",
    "  openassetio::Str displayName() const { return \"Demo Host\"; }\n",
    "  openassetio::InfoDictionary info() const { return {}; }\n",
    "};\n",
    "\n",
    "const auto host = std::make_shared<Host>();"
   ]
  },
  {
   "cell_type": "markdown",
   "id": "4b6da472-2435-4986-808c-fd5f08d55827",
   "metadata": {},
   "source": [
    "## Get a manager instance\n",
    "\n",
    "Here we pass a path to the `config.toml`, we could also use the `OPENASSETIO_DEFAULT_CONFIG` environment variable."
   ]
  },
  {
   "cell_type": "code",
   "execution_count": null,
   "id": "2b853526-9c30-463c-84a3-ac2b8153a20f",
   "metadata": {},
   "outputs": [],
   "source": [
    "#include <openassetio/hostApi/ManagerFactory.hpp>\n",
    "\n",
    "const auto manager = openassetio::hostApi::ManagerFactory::defaultManagerForInterface(\"resources/config.toml\", host, factory, logger)"
   ]
  },
  {
   "cell_type": "markdown",
   "id": "83500ad6-3df8-451e-92cd-53bf97ff7cb2",
   "metadata": {},
   "source": [
    "## Resolve some data"
   ]
  },
  {
   "cell_type": "code",
   "execution_count": null,
   "id": "d659d096-c1b5-4ea4-b218-7b818f8e5bcb",
   "metadata": {},
   "outputs": [],
   "source": [
    "#include <openassetio/hostApi/Manager.hpp>\n",
    "\n",
    "#include <openassetio_mediacreation/traits/content.hpp>\n",
    "\n",
    "using openassetio_mediacreation::traits::content::LocatableContentTrait;\n",
    "\n",
    "const openassetio::ContextPtr context = manager->createContext();\n",
    "\n",
    "const openassetio::EntityReference ref = manager->createEntityReference(\"bal:///demo_project/logos/openassetio/latest\");\n",
    "\n",
    "const auto data = manager->resolve(ref, {LocatableContentTrait::kId}, context);\n",
    "\n",
    "std::string url = LocatableContentTrait(data).getLocation();\n",
    "\n",
    "url"
   ]
  },
  {
   "cell_type": "code",
   "execution_count": null,
   "id": "78bb426a-19f2-4d56-a364-9b279ee7f55b",
   "metadata": {},
   "outputs": [],
   "source": [
    "auto file_path = url.substr(7);\n",
    "file_path"
   ]
  },
  {
   "cell_type": "markdown",
   "id": "38f9cb3f-1081-49b7-9f05-4da4ba846985",
   "metadata": {},
   "source": [
    "#### (boilerplate to render images in the notebook)\n",
    "\n",
    "This next snippet is from the xeus-cling docs, required in order to display images in the Notebook: https://xeus-cling.readthedocs.io/en/latest/rich_display.html"
   ]
  },
  {
   "cell_type": "code",
   "execution_count": null,
   "id": "32015fde-3e67-4694-9078-fa5374a4ed34",
   "metadata": {
    "jupyter": {
     "source_hidden": true
    }
   },
   "outputs": [],
   "source": [
    "/**\n",
    " * Modified from: https://xeus-cling.readthedocs.io/en/latest/rich_display.html\n",
    " * \n",
    " * Why isn't this built-in ???\n",
    " */ \n",
    "\n",
    "#include <string>\n",
    "#include <fstream>\n",
    "\n",
    "#include \"xtl/xbase64.hpp\"\n",
    "#include \"nlohmann/json.hpp\"\n",
    "\n",
    "namespace nl = nlohmann;\n",
    "\n",
    "namespace im\n",
    "{\n",
    "    struct jpg\n",
    "    {\n",
    "        inline jpg(const std::string& filename)\n",
    "        {\n",
    "            std::ifstream fin(filename, std::ios::binary);\n",
    "            m_buffer << fin.rdbuf();\n",
    "        }\n",
    "\n",
    "        std::stringstream m_buffer;\n",
    "    };\n",
    "\n",
    "    nl::json mime_bundle_repr(const jpg& i)\n",
    "    {\n",
    "        auto bundle = nl::json::object();\n",
    "        bundle[\"image/jpeg\"] = xtl::base64encode(i.m_buffer.str());\n",
    "        return bundle;\n",
    "    }\n",
    "}"
   ]
  },
  {
   "cell_type": "markdown",
   "id": "e9254c17-0ae7-4d0a-b879-6df837ee0f81",
   "metadata": {},
   "source": [
    "#### Render the resolved and retrieved data"
   ]
  },
  {
   "cell_type": "code",
   "execution_count": null,
   "id": "53611d7a-82a9-421c-8420-6c4b436bcb18",
   "metadata": {},
   "outputs": [],
   "source": [
    "im::jpg logo{file_path};\n",
    "logo"
   ]
  },
  {
   "cell_type": "code",
   "execution_count": null,
   "id": "a2d7ee98-61ce-4fe5-ab84-9cb8d23bf3b9",
   "metadata": {},
   "outputs": [],
   "source": []
  }
 ],
 "metadata": {
  "kernelspec": {
   "display_name": "C++17",
   "language": "C++17",
   "name": "xcpp17"
  },
  "language_info": {
   "codemirror_mode": "text/x-c++src",
   "file_extension": ".cpp",
   "mimetype": "text/x-c++src",
   "name": "c++",
   "version": "17"
  }
 },
 "nbformat": 4,
 "nbformat_minor": 5
}
