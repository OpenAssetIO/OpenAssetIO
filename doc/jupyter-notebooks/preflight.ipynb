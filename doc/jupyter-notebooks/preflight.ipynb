{
 "cells": [
  {
   "cell_type": "markdown",
   "id": "16ff8ea1-5bc4-41e2-b7ca-1ffd48618b3a",
   "metadata": {},
   "source": [
    "#### Bootstrap OpenAssetIO"
   ]
  },
  {
   "cell_type": "code",
   "execution_count": 1,
   "id": "6ef73b42-a7ad-4bfb-9420-7d4def269459",
   "metadata": {
    "jupyter": {
     "source_hidden": true
    }
   },
   "outputs": [],
   "source": [
    "import json\n",
    "import pprint\n",
    "\n",
    "from openassetio import BatchElementException, TraitsData\n",
    "from openassetio.hostApi import HostInterface, ManagerFactory\n",
    "from openassetio.log import ConsoleLogger, SeverityFilter\n",
    "from openassetio.pluginSystem import PythonPluginSystemManagerImplementationFactory\n",
    "\n",
    "class DemoHostInterface(HostInterface):\n",
    "    def identifier(self):\n",
    "        return \"org.demo.jupyter\"\n",
    "\n",
    "    def displayName(self):\n",
    "        return \"Demo Host\"\n",
    "\n",
    "\n",
    "logger = SeverityFilter(ConsoleLogger())\n",
    "impl_factory = PythonPluginSystemManagerImplementationFactory(logger)\n",
    "host_interface = DemoHostInterface()\n",
    "\n",
    "manager = ManagerFactory.defaultManagerForInterface(\"resources/config.toml\", host_interface, impl_factory, logger)\n",
    "context = manager.createContext()\n",
    "write_context = context # Fudge for BAL\n",
    "\n",
    "def print_traits_data(data):\n",
    "    as_dict = {\n",
    "        trait_id: {\n",
    "            property_key: data.getTraitProperty(trait_id, property_key)\n",
    "            for property_key in data.traitPropertyKeys(trait_id)\n",
    "        }\n",
    "        for trait_id in data.traitSet()\n",
    "    }\n",
    "    print(json.dumps(as_dict, indent=4, sort_keys=True))\n",
    "\n",
    "\n",
    "def take_picture(path):\n",
    "    pass\n",
    "\n",
    "def query_auth_token():\n",
    "    return \"RGF2aWQgaGFzIGdvZC1sZXZlbCBwZXJtaXNzaW9ucw==\""
   ]
  },
  {
   "cell_type": "markdown",
   "id": "4348da46-9467-4734-9f96-d84e26f7c11f",
   "metadata": {},
   "source": [
    "## Batch publish two different entity types"
   ]
  },
  {
   "cell_type": "markdown",
   "id": "aca5c35d-b041-4655-9e0e-f8e11482ab68",
   "metadata": {},
   "source": [
    "### Firstly, a user credential entity\n",
    "\n",
    "(Note: bad example, but limited by traits available in MediaCreation)\n"
   ]
  },
  {
   "cell_type": "code",
   "execution_count": 2,
   "id": "512a20d0-75dd-4019-90f9-d3bbf72fe9a5",
   "metadata": {},
   "outputs": [],
   "source": [
    "from openassetio_mediacreation.traits.auth import BearerTokenTrait\n",
    "\n",
    "credential_ref = manager.createEntityReference(\"bal:///demo_project/user/credential\")\n",
    "\n",
    "credential_data = TraitsData()\n",
    "BearerTokenTrait.imbueTo(credential_data)"
   ]
  },
  {
   "cell_type": "markdown",
   "id": "d691c329-cbbb-4ebf-9b57-311e164ee9af",
   "metadata": {},
   "source": [
    "### Secondly, user's profile picture\n",
    "\n",
    "We haven't yet taken the picture, but we know the user's name"
   ]
  },
  {
   "cell_type": "code",
   "execution_count": 3,
   "id": "470268ac-0027-427e-8071-827fc6a0096e",
   "metadata": {},
   "outputs": [],
   "source": [
    "from openassetio_mediacreation.traits.content import LocatableContentTrait\n",
    "from openassetio_mediacreation.traits.identity import DisplayNameTrait\n",
    "\n",
    "user_name = \"David Feltell\"\n",
    "picture_ref = manager.createEntityReference(\"bal:///demo_project/user/profile/picture\")\n",
    "\n",
    "picture_data = TraitsData()\n",
    "LocatableContentTrait.imbueTo(picture_data)\n",
    "DisplayNameTrait.imbueTo(picture_data)\n",
    "\n",
    "DisplayNameTrait(picture_data).setName(user_name)"
   ]
  },
  {
   "cell_type": "markdown",
   "id": "69b52e6f-2607-40d4-9e6c-2d9c2c9a2e33",
   "metadata": {},
   "source": [
    "### Preflight the entities\n",
    "\n",
    "We now preflight the two entities, giving as much information up-front as possible.\n",
    "\n",
    "Note that previously it was not possible to pass entities of different types (trait sets) along with properties known ahead-of-time."
   ]
  },
  {
   "cell_type": "code",
   "execution_count": 4,
   "id": "0fcf0214-2561-488a-8eee-0330ca27710d",
   "metadata": {},
   "outputs": [],
   "source": [
    "# Note, previously: wk_refs = manager.preflight(refs, {\"trait1\", \"trait2\", ...}, context)\n",
    "\n",
    "[picture_wk_ref, credential_wk_ref] = manager.preflight([picture_ref, credential_ref], [picture_data, credential_data], write_context)"
   ]
  },
  {
   "cell_type": "markdown",
   "id": "adba3857-ecc9-46e4-8a32-3ac7acbbc8ee",
   "metadata": {},
   "source": [
    "### Populate the data for final register\n",
    "\n",
    "User credentials first"
   ]
  },
  {
   "cell_type": "code",
   "execution_count": 5,
   "id": "4d6eb81b-7b76-40e4-b4e5-efb84ba49952",
   "metadata": {},
   "outputs": [
    {
     "name": "stdout",
     "output_type": "stream",
     "text": [
      "Token: RGF2aWQgaGFzIGdvZC1sZXZlbCBwZXJtaXNzaW9ucw==\n"
     ]
    }
   ],
   "source": [
    "# Get the authentication token\n",
    "token = query_auth_token()\n",
    "print(f\"Token: {token}\")\n",
    "\n",
    "# Update the data to register with the manager. \n",
    "BearerTokenTrait(credential_data).setToken(token)"
   ]
  },
  {
   "cell_type": "markdown",
   "id": "49a492b0-5af0-48cc-90a1-f47098226c13",
   "metadata": {},
   "source": [
    "Now user profile picture, making sure to ask the manager where it wants it to be saved.\n",
    "\n",
    "Note that the file path is only possible thanks the the `preflight` API changes"
   ]
  },
  {
   "cell_type": "code",
   "execution_count": 6,
   "id": "878cba9b-fc75-4777-8c35-d16d6c09c480",
   "metadata": {},
   "outputs": [
    {
     "name": "stdout",
     "output_type": "stream",
     "text": [
      "Picture location: file:///mnt/pictures/people/David%20Feltell.png\n"
     ]
    }
   ],
   "source": [
    "# Get location the manager wants us to write to.\n",
    "picture_location_data = manager.resolve(picture_wk_ref, {LocatableContentTrait.kId}, write_context)\n",
    "picture_location = LocatableContentTrait(picture_location_data).getLocation()\n",
    "print(f\"Picture location: {picture_location}\")\n",
    "\n",
    "# Take a picture.\n",
    "take_picture(picture_location)\n",
    "\n",
    "# Update the data to register with the manager.\n",
    "LocatableContentTrait(picture_data).setLocation(picture_location)"
   ]
  },
  {
   "cell_type": "markdown",
   "id": "97274737-40f3-413a-94a7-ddaad6f955bf",
   "metadata": {},
   "source": [
    "### Register the two (differently typed) entitites"
   ]
  },
  {
   "cell_type": "code",
   "execution_count": 7,
   "id": "2d1ca164-a87f-4d3d-88fb-7aa27f5e49a8",
   "metadata": {},
   "outputs": [],
   "source": [
    "[picture_final_ref, credential_final_ref] = manager.register([picture_wk_ref, credential_wk_ref], [picture_data, credential_data], context)"
   ]
  },
  {
   "cell_type": "markdown",
   "id": "d7fbd78e-f069-4274-8493-77b098d3a5fb",
   "metadata": {},
   "source": [
    "### Check they're registered OK"
   ]
  },
  {
   "cell_type": "code",
   "execution_count": 8,
   "id": "7cd74e6d-ee80-45a0-b654-f1fcb2eb13cb",
   "metadata": {},
   "outputs": [
    {
     "name": "stdout",
     "output_type": "stream",
     "text": [
      "Picture data\n",
      "{\n",
      "    \"openassetio-mediacreation:content.LocatableContent\": {\n",
      "        \"location\": \"file:///mnt/pictures/people/David%20Feltell.png\"\n",
      "    },\n",
      "    \"openassetio-mediacreation:identity.DisplayName\": {\n",
      "        \"name\": \"David Feltell\"\n",
      "    }\n",
      "}\n",
      "Credential data\n",
      "{\n",
      "    \"openassetio-mediacreation:auth.BearerToken\": {\n",
      "        \"token\": \"RGF2aWQgaGFzIGdvZC1sZXZlbCBwZXJtaXNzaW9ucw==\"\n",
      "    }\n",
      "}\n"
     ]
    }
   ],
   "source": [
    "all_trait_ids = {LocatableContentTrait.kId, DisplayNameTrait.kId, BearerTokenTrait.kId}\n",
    "\n",
    "[picture_final_data, credential_final_data] = manager.resolve([picture_final_ref, credential_final_ref], all_trait_ids, context)\n",
    "\n",
    "print(\"Picture data\")\n",
    "print_traits_data(picture_final_data)\n",
    "print(\"Credential data\")\n",
    "print_traits_data(credential_final_data)"
   ]
  },
  {
   "cell_type": "code",
   "execution_count": null,
   "id": "04fb4c47-5a19-4d9e-9534-50430f1dab1c",
   "metadata": {},
   "outputs": [],
   "source": []
  }
 ],
 "metadata": {
  "kernelspec": {
   "display_name": "Python 3 (ipykernel)",
   "language": "python",
   "name": "python3"
  },
  "language_info": {
   "codemirror_mode": {
    "name": "ipython",
    "version": 3
   },
   "file_extension": ".py",
   "mimetype": "text/x-python",
   "name": "python",
   "nbconvert_exporter": "python",
   "pygments_lexer": "ipython3",
   "version": "3.11.4"
  }
 },
 "nbformat": 4,
 "nbformat_minor": 5
}
