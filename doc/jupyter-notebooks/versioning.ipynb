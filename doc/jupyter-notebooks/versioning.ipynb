{
 "cells": [
  {
   "cell_type": "markdown",
   "id": "16ff8ea1-5bc4-41e2-b7ca-1ffd48618b3a",
   "metadata": {},
   "source": [
    "## Bootstrap OpenAssetIO"
   ]
  },
  {
   "cell_type": "code",
   "execution_count": 1,
   "id": "6ef73b42-a7ad-4bfb-9420-7d4def269459",
   "metadata": {},
   "outputs": [],
   "source": [
    "import json\n",
    "import pprint\n",
    "\n",
    "from openassetio import BatchElementException\n",
    "from openassetio.hostApi import HostInterface, ManagerFactory\n",
    "from openassetio.log import ConsoleLogger, SeverityFilter\n",
    "from openassetio.pluginSystem import PythonPluginSystemManagerImplementationFactory\n",
    "\n",
    "class DemoHostInterface(HostInterface):\n",
    "    def identifier(self):\n",
    "        return \"org.demo.jupyter\"\n",
    "\n",
    "    def displayName(self):\n",
    "        return \"Demo Host\"\n",
    "\n",
    "\n",
    "logger = SeverityFilter(ConsoleLogger())\n",
    "impl_factory = PythonPluginSystemManagerImplementationFactory(logger)\n",
    "host_interface = DemoHostInterface()\n",
    "\n",
    "manager = ManagerFactory.defaultManagerForInterface(\"resources/config.toml\", host_interface, impl_factory, logger)\n",
    "context = manager.createContext()\n",
    "\n",
    "def print_traits_data(data):\n",
    "    as_dict = {\n",
    "        trait_id: {\n",
    "            property_key: data.getTraitProperty(trait_id, property_key)\n",
    "            for property_key in data.traitPropertyKeys(trait_id)\n",
    "        }\n",
    "        for trait_id in data.traitSet()\n",
    "    }\n",
    "    print(json.dumps(as_dict, indent=4, sort_keys=True))"
   ]
  },
  {
   "cell_type": "markdown",
   "id": "4348da46-9467-4734-9f96-d84e26f7c11f",
   "metadata": {},
   "source": [
    "## Query an entity's version"
   ]
  },
  {
   "cell_type": "code",
   "execution_count": 3,
   "id": "0fcf0214-2561-488a-8eee-0330ca27710d",
   "metadata": {},
   "outputs": [
    {
     "name": "stdout",
     "output_type": "stream",
     "text": [
      "{\n",
      "    \"openassetio-mediacreation:content.LocatableContent\": {\n",
      "        \"location\": \"file:///home/dave/workspace/cloud/assetapi/OpenAssetIO/doc/jupyter-notebooks/resources/logo_v2.jpg\"\n",
      "    },\n",
      "    \"openassetio-mediacreation:lifecycle.Version\": {\n",
      "        \"specifiedTag\": \"latest\",\n",
      "        \"stableTag\": \"v2\"\n",
      "    }\n",
      "}\n"
     ]
    },
    {
     "ename": "NameError",
     "evalue": "name 'error' is not defined",
     "output_type": "error",
     "traceback": [
      "\u001b[0;31m---------------------------------------------------------------------------\u001b[0m",
      "\u001b[0;31mNameError\u001b[0m                                 Traceback (most recent call last)",
      "Cell \u001b[0;32mIn[3], line 9\u001b[0m\n\u001b[1;32m      6\u001b[0m data \u001b[38;5;241m=\u001b[39m manager\u001b[38;5;241m.\u001b[39mresolve(ref, {LocatableContentTrait\u001b[38;5;241m.\u001b[39mkId, VersionTrait\u001b[38;5;241m.\u001b[39mkId}, context)\n\u001b[1;32m      8\u001b[0m print_traits_data(data)\n\u001b[0;32m----> 9\u001b[0m \u001b[43merror\u001b[49m\n",
      "\u001b[0;31mNameError\u001b[0m: name 'error' is not defined"
     ]
    }
   ],
   "source": [
    "from openassetio_mediacreation.traits.lifecycle import VersionTrait\n",
    "from openassetio_mediacreation.traits.content import LocatableContentTrait\n",
    "\n",
    "ref = manager.createEntityReference(\"bal:///demo_project/logos/openassetio/latest\")\n",
    "\n",
    "data = manager.resolve(ref, {LocatableContentTrait.kId, VersionTrait.kId}, context)\n",
    "\n",
    "print_traits_data(data)"
   ]
  },
  {
   "cell_type": "code",
   "execution_count": null,
   "id": "4d6eb81b-7b76-40e4-b4e5-efb84ba49952",
   "metadata": {},
   "outputs": [],
   "source": []
  }
 ],
 "metadata": {
  "kernelspec": {
   "display_name": "Python 3 (ipykernel)",
   "language": "python",
   "name": "python3"
  },
  "language_info": {
   "codemirror_mode": {
    "name": "ipython",
    "version": 3
   },
   "file_extension": ".py",
   "mimetype": "text/x-python",
   "name": "python",
   "nbconvert_exporter": "python",
   "pygments_lexer": "ipython3",
   "version": "3.11.4"
  }
 },
 "nbformat": 4,
 "nbformat_minor": 5
}
