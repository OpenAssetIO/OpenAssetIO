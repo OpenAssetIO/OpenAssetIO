{
 "cells": [
  {
   "cell_type": "markdown",
   "id": "16ff8ea1-5bc4-41e2-b7ca-1ffd48618b3a",
   "metadata": {},
   "source": [
    "#### Bootstrap OpenAssetIO"
   ]
  },
  {
   "cell_type": "code",
   "execution_count": 12,
   "id": "6ef73b42-a7ad-4bfb-9420-7d4def269459",
   "metadata": {
    "jupyter": {
     "source_hidden": true
    }
   },
   "outputs": [],
   "source": [
    "import json\n",
    "import pprint\n",
    "\n",
    "from openassetio import BatchElementException\n",
    "from openassetio.hostApi import HostInterface, ManagerFactory\n",
    "from openassetio.log import ConsoleLogger, SeverityFilter\n",
    "from openassetio.pluginSystem import PythonPluginSystemManagerImplementationFactory\n",
    "\n",
    "class DemoHostInterface(HostInterface):\n",
    "    def identifier(self):\n",
    "        return \"org.demo.jupyter\"\n",
    "\n",
    "    def displayName(self):\n",
    "        return \"Demo Host\"\n",
    "\n",
    "\n",
    "logger = SeverityFilter(ConsoleLogger())\n",
    "impl_factory = PythonPluginSystemManagerImplementationFactory(logger)\n",
    "host_interface = DemoHostInterface()\n",
    "\n",
    "manager = ManagerFactory.defaultManagerForInterface(\"resources/config.toml\", host_interface, impl_factory, logger)\n",
    "context = manager.createContext()\n",
    "\n",
    "def print_traits_data(data):\n",
    "    as_dict = {\n",
    "        trait_id: {\n",
    "            property_key: data.getTraitProperty(trait_id, property_key)\n",
    "            for property_key in data.traitPropertyKeys(trait_id)\n",
    "        }\n",
    "        for trait_id in data.traitSet()\n",
    "    }\n",
    "    print(json.dumps(as_dict, indent=4, sort_keys=True))"
   ]
  },
  {
   "cell_type": "markdown",
   "id": "4348da46-9467-4734-9f96-d84e26f7c11f",
   "metadata": {},
   "source": [
    "## Query an entity's version\n",
    "\n",
    "Note the change in signature. We no longer modify the `context` to set an `access` mode, it is instead a workflow-specific enum that is a first-class argument of the `resolve` function.\n",
    "\n",
    "BAL now supports resolving the `VersionTrait`.\n",
    "\n",
    "Oh no, the display name has a spelling mistake!"
   ]
  },
  {
   "cell_type": "code",
   "execution_count": 3,
   "id": "0fcf0214-2561-488a-8eee-0330ca27710d",
   "metadata": {},
   "outputs": [
    {
     "name": "stdout",
     "output_type": "stream",
     "text": [
      "bal:///demo_project/logos/openassetio\n",
      "{\n",
      "    \"openassetio-mediacreation:identity.DisplayName\": {\n",
      "        \"name\": \"The OpenAssetOI logo\",\n",
      "        \"qualifiedName\": \"logos / openassetio\"\n",
      "    },\n",
      "    \"openassetio-mediacreation:lifecycle.Version\": {\n",
      "        \"specifiedTag\": \"latest\",\n",
      "        \"stableTag\": \"1\"\n",
      "    }\n",
      "}\n"
     ]
    }
   ],
   "source": [
    "from openassetio.access import ResolveAccess\n",
    "\n",
    "from openassetio_mediacreation.traits.lifecycle import VersionTrait\n",
    "from openassetio_mediacreation.traits.identity import DisplayNameTrait\n",
    "\n",
    "latest_ref = manager.createEntityReference(\"bal:///demo_project/logos/openassetio\")\n",
    "\n",
    "print(latest_ref)\n",
    "data = manager.resolve(latest_ref, {DisplayNameTrait.kId, VersionTrait.kId}, ResolveAccess.kRead, context)\n",
    "print_traits_data(data)"
   ]
  },
  {
   "cell_type": "markdown",
   "id": "9adf195a-1cc2-4d09-b1f8-afa1d8c5994b",
   "metadata": {},
   "source": [
    "## Get all versions (including metaversions)\n",
    "\n",
    "BAL now supports relationship queries for the `EntityVersionsRelationshipSpecification`. This retrieves all versions, including metaversions such as \"latest\".\n",
    "\n",
    "(Relationship queries look a bit clunky since we currently only expose a batch-first callback-based API)"
   ]
  },
  {
   "cell_type": "code",
   "execution_count": 5,
   "id": "67fe58a8-ac53-48cd-8862-0516416a8fc4",
   "metadata": {},
   "outputs": [
    {
     "name": "stdout",
     "output_type": "stream",
     "text": [
      "['bal:///demo_project/logos/openassetio', 'bal:///demo_project/logos/openassetio?v=1']\n"
     ]
    }
   ],
   "source": [
    "from openassetio.access import RelationsAccess\n",
    "\n",
    "from openassetio_mediacreation.specifications.lifecycle import EntityVersionsRelationshipSpecification\n",
    "\n",
    "related_refs = []\n",
    "\n",
    "relationship = EntityVersionsRelationshipSpecification.create().traitsData()\n",
    "\n",
    "manager.getWithRelationship(\n",
    "    [latest_ref], relationship, RelationsAccess.kRead, context, \n",
    "    lambda _, refs: related_refs.extend(refs), lambda _, err: print(err.message))\n",
    "\n",
    "print([str(ref) for ref in related_refs])"
   ]
  },
  {
   "cell_type": "markdown",
   "id": "a05b7b25-6414-4679-8dfa-d34c0a0d24b5",
   "metadata": {},
   "source": [
    "## Query a specific version\n",
    "\n",
    "\"v=1\" and \"latest\" are the same entity, but different results are returned for their \"stableTag\"."
   ]
  },
  {
   "cell_type": "code",
   "execution_count": 6,
   "id": "fe115b9d-77e6-432f-ab60-aca0387e96bb",
   "metadata": {},
   "outputs": [
    {
     "name": "stdout",
     "output_type": "stream",
     "text": [
      "bal:///demo_project/logos/openassetio?v=1\n",
      "{\n",
      "    \"openassetio-mediacreation:identity.DisplayName\": {\n",
      "        \"name\": \"The OpenAssetOI logo\",\n",
      "        \"qualifiedName\": \"logos / openassetio\"\n",
      "    },\n",
      "    \"openassetio-mediacreation:lifecycle.Version\": {\n",
      "        \"specifiedTag\": \"1\",\n",
      "        \"stableTag\": \"1\"\n",
      "    }\n",
      "}\n",
      "bal:///demo_project/logos/openassetio\n",
      "{\n",
      "    \"openassetio-mediacreation:identity.DisplayName\": {\n",
      "        \"name\": \"The OpenAssetOI logo\",\n",
      "        \"qualifiedName\": \"logos / openassetio\"\n",
      "    },\n",
      "    \"openassetio-mediacreation:lifecycle.Version\": {\n",
      "        \"specifiedTag\": \"latest\",\n",
      "        \"stableTag\": \"1\"\n",
      "    }\n",
      "}\n"
     ]
    }
   ],
   "source": [
    "assert latest_ref == related_refs[0]\n",
    "v1_ref = related_refs[1]\n",
    "\n",
    "print(v1_ref)\n",
    "data = manager.resolve(v1_ref, {DisplayNameTrait.kId, VersionTrait.kId}, ResolveAccess.kRead, context)\n",
    "print_traits_data(data)\n",
    "\n",
    "print(latest_ref)\n",
    "data = manager.resolve(latest_ref, {DisplayNameTrait.kId, VersionTrait.kId}, ResolveAccess.kRead, context)\n",
    "print_traits_data(data)"
   ]
  },
  {
   "cell_type": "markdown",
   "id": "86af0fe3-d6b7-484c-a366-3927035f55e7",
   "metadata": {},
   "source": [
    "## Publish a new version\n",
    "\n",
    "Let's fix the spelling mistake.\n",
    "\n",
    "Nothing new here, other than the final reference returned from `register` has the version encoded in it."
   ]
  },
  {
   "cell_type": "code",
   "execution_count": 7,
   "id": "2d6799b1-d55b-4ec2-a794-15eeaffa65cf",
   "metadata": {},
   "outputs": [
    {
     "name": "stdout",
     "output_type": "stream",
     "text": [
      "bal:///demo_project/logos/openassetio?v=2\n"
     ]
    }
   ],
   "source": [
    "from openassetio import TraitsData\n",
    "from openassetio.access import PublishingAccess\n",
    "\n",
    "new_data = TraitsData(data)\n",
    "display_name_trait = DisplayNameTrait(new_data)\n",
    "display_name_trait.imbue()\n",
    "\n",
    "working_ref = manager.preflight(latest_ref, new_data, PublishingAccess.kWrite, context)\n",
    "\n",
    "display_name_trait.setName(\"The OpenAssetIO logo\")\n",
    "\n",
    "new_ref = manager.register(latest_ref, new_data, PublishingAccess.kWrite, context)\n",
    "print(new_ref)"
   ]
  },
  {
   "cell_type": "markdown",
   "id": "ea9a1092-a8d7-4e96-ab99-bcd332f1435a",
   "metadata": {},
   "source": [
    "## Check it's updated\n",
    "\n",
    "Let's compare the data associated with all the references we know of.\n",
    "\n",
    "Now, \"v=2\" and \"latest\" are the same entity.  \"v=1\" remains unmodified."
   ]
  },
  {
   "cell_type": "code",
   "execution_count": 9,
   "id": "dcdf0d43-adb9-4c61-ad9a-05488b1d7c6b",
   "metadata": {},
   "outputs": [
    {
     "name": "stdout",
     "output_type": "stream",
     "text": [
      "bal:///demo_project/logos/openassetio?v=1\n",
      "{\n",
      "    \"openassetio-mediacreation:identity.DisplayName\": {\n",
      "        \"name\": \"The OpenAssetOI logo\",\n",
      "        \"qualifiedName\": \"logos / openassetio\"\n",
      "    },\n",
      "    \"openassetio-mediacreation:lifecycle.Version\": {\n",
      "        \"specifiedTag\": \"1\",\n",
      "        \"stableTag\": \"1\"\n",
      "    }\n",
      "}\n",
      "bal:///demo_project/logos/openassetio?v=2\n",
      "{\n",
      "    \"openassetio-mediacreation:identity.DisplayName\": {\n",
      "        \"name\": \"The OpenAssetIO logo\",\n",
      "        \"qualifiedName\": \"logos / openassetio\"\n",
      "    },\n",
      "    \"openassetio-mediacreation:lifecycle.Version\": {\n",
      "        \"specifiedTag\": \"2\",\n",
      "        \"stableTag\": \"2\"\n",
      "    }\n",
      "}\n",
      "bal:///demo_project/logos/openassetio\n",
      "{\n",
      "    \"openassetio-mediacreation:identity.DisplayName\": {\n",
      "        \"name\": \"The OpenAssetIO logo\",\n",
      "        \"qualifiedName\": \"logos / openassetio\"\n",
      "    },\n",
      "    \"openassetio-mediacreation:lifecycle.Version\": {\n",
      "        \"specifiedTag\": \"latest\",\n",
      "        \"stableTag\": \"2\"\n",
      "    }\n",
      "}\n"
     ]
    }
   ],
   "source": [
    "print(v1_ref)\n",
    "data = manager.resolve(v1_ref, {DisplayNameTrait.kId, VersionTrait.kId}, ResolveAccess.kRead, context)\n",
    "print_traits_data(data)\n",
    "\n",
    "print(new_ref)\n",
    "data = manager.resolve(new_ref, {DisplayNameTrait.kId, VersionTrait.kId}, ResolveAccess.kRead, context)\n",
    "print_traits_data(data)\n",
    "\n",
    "print(latest_ref)\n",
    "data = manager.resolve(latest_ref, {DisplayNameTrait.kId, VersionTrait.kId}, ResolveAccess.kRead, context)\n",
    "print_traits_data(data)"
   ]
  },
  {
   "cell_type": "markdown",
   "id": "9a3228dc-0c34-40fa-8da7-f24009a07457",
   "metadata": {},
   "source": [
    "## Get all versions (including metaversions)\n",
    "\n",
    "Let's check what versions are now available.  \n",
    "\n",
    "Here we use `latest_ref`, but we could use one of the versioned refs and the results would be the same."
   ]
  },
  {
   "cell_type": "code",
   "execution_count": 10,
   "id": "de44062c-3943-46f6-b85f-86d3091d9f28",
   "metadata": {},
   "outputs": [
    {
     "name": "stdout",
     "output_type": "stream",
     "text": [
      "['bal:///demo_project/logos/openassetio', 'bal:///demo_project/logos/openassetio?v=2', 'bal:///demo_project/logos/openassetio?v=1']\n"
     ]
    }
   ],
   "source": [
    "related_refs = []\n",
    "\n",
    "relationship = EntityVersionsRelationshipSpecification.create().traitsData()\n",
    "\n",
    "manager.getWithRelationship(\n",
    "    [latest_ref], relationship, RelationsAccess.kRead, context, \n",
    "    lambda _, refs: related_refs.extend(refs), lambda _, err: print(err.message))\n",
    "\n",
    "print([str(ref) for ref in related_refs])"
   ]
  },
  {
   "cell_type": "markdown",
   "id": "78c29b77-c842-4745-8568-3402e5048185",
   "metadata": {},
   "source": [
    "## Get all versions (excluding metaversions)\n",
    "\n",
    "BAL also now supports the `StableEntityVersionsRelationshipSpecification` to query for entity versions excluding metaversions like \"latest\"."
   ]
  },
  {
   "cell_type": "code",
   "execution_count": 11,
   "id": "7592fd18-eb88-4e3e-a1f5-79ecee3b2131",
   "metadata": {},
   "outputs": [
    {
     "name": "stdout",
     "output_type": "stream",
     "text": [
      "['bal:///demo_project/logos/openassetio?v=2', 'bal:///demo_project/logos/openassetio?v=1']\n"
     ]
    }
   ],
   "source": [
    "from openassetio_mediacreation.specifications.lifecycle import StableEntityVersionsRelationshipSpecification\n",
    "\n",
    "\n",
    "related_refs = []\n",
    "\n",
    "relationship = StableEntityVersionsRelationshipSpecification.create().traitsData()\n",
    "\n",
    "manager.getWithRelationship(\n",
    "    [latest_ref], relationship, RelationsAccess.kRead, context, \n",
    "    lambda _, refs: related_refs.extend(refs), lambda _, err: print(err.message))\n",
    "\n",
    "print([str(ref) for ref in related_refs])"
   ]
  },
  {
   "cell_type": "code",
   "execution_count": null,
   "id": "3a0aa2db-22e9-450e-a07b-c869965d8819",
   "metadata": {},
   "outputs": [],
   "source": []
  }
 ],
 "metadata": {
  "kernelspec": {
   "display_name": "Python 3 (ipykernel)",
   "language": "python",
   "name": "python3"
  },
  "language_info": {
   "codemirror_mode": {
    "name": "ipython",
    "version": 3
   },
   "file_extension": ".py",
   "mimetype": "text/x-python",
   "name": "python",
   "nbconvert_exporter": "python",
   "pygments_lexer": "ipython3",
   "version": "3.11.4"
  }
 },
 "nbformat": 4,
 "nbformat_minor": 5
}
