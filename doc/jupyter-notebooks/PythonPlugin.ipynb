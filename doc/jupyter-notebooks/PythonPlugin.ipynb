{
 "cells": [
  {
   "cell_type": "markdown",
   "id": "16fb0fc1-7dc2-4e16-9612-b9c5204677fb",
   "metadata": {},
   "source": [
    "# Load a Python plugin"
   ]
  },
  {
   "cell_type": "markdown",
   "id": "4bcc7c5a-2a17-4d54-9b6e-e1ad71279af9",
   "metadata": {
    "jp-MarkdownHeadingCollapsed": true
   },
   "source": [
    "## Set up environment\n",
    "\n",
    "We asssume a xeus-cling Conda environment with Python 3.11.\n",
    "\n",
    "> TODO(DF): Find a way to parametrise the Python version."
   ]
  },
  {
   "cell_type": "markdown",
   "id": "c20b7c50-0900-4a0d-8759-2d233adba50d",
   "metadata": {},
   "source": [
    "#### Installing Conda\n",
    "\n",
    "On Ubuntu, Conda can be installed by\n",
    "\n",
    "```\n",
    "curl https://repo.anaconda.com/pkgs/misc/gpgkeys/anaconda.asc | gpg --dearmor > conda.gpg\n",
    "sudo install -o root -g root -m 644 conda.gpg /usr/share/keyrings/conda-archive-keyring.gpg\n",
    "gpg --keyring /usr/share/keyrings/conda-archive-keyring.gpg --no-default-keyring --fingerprint 34161F5BF5EB1D4BFBBB8F0A8AEB4F8B29D82806\n",
    "echo \"deb [arch=amd64 signed-by=/usr/share/keyrings/conda-archive-keyring.gpg] https://repo.anaconda.com/pkgs/misc/debrepo/conda stable main\" | sudo tee /etc/apt/sources.list.d/conda.list\n",
    "sudo apt update\n",
    "sudo apt install conda\n",
    "\n",
    "# Next line needed in any new terminal until re-login\n",
    "source /opt/conda/etc/profile.d/conda.sh\n",
    "```\n",
    "\n",
    "#### Conda Jupyter Notebook environment\n",
    "\n",
    "```\n",
    "conda create -n jupyter --yes\n",
    "conda activate jupyter\n",
    "\n",
    "# mamba is a rewrite of conda in C++ and is orders of magnitude quicker.\n",
    "conda install mamba -c conda-forge --yes\n",
    "# Minimum version of gcc installed that also works with xeus-cling\n",
    "mamba install xeus-cling jupyterlab gcc==10.4.0 gxx==10.4.0 tox git cmake ninja conan=1.59.0 -c conda-forge --yes\n",
    "```"
   ]
  },
  {
   "cell_type": "markdown",
   "id": "c76251fb-67bb-48ef-938a-9981b2f2791a",
   "metadata": {},
   "source": [
    "#### Get dependencies\n",
    "\n",
    "This uses `tox` to create a local environment under `.tox/dependencies` with OpenAssetIO and associated tools built and installed into it.\n",
    "\n",
    "**Note**: this may take some time..."
   ]
  },
  {
   "cell_type": "code",
   "execution_count": 1,
   "id": "a36d14ec-3aa6-456c-ac2d-2b9688eafcbb",
   "metadata": {},
   "outputs": [
    {
     "name": "stdout",
     "output_type": "stream",
     "text": [
      "dependencies: install_deps> python -I -m pip install openassetio-manager-bal openassetio-traitgen\n",
      "dependencies: commands[0]> python get_deps.py\n",
      "Cloning into 'src'...\n",
      "Auto detecting your dev setup to initialize the default profile (/tmp/tmpk4pdyiih/deps/openassetio/conan/.conan/profiles/default)\n",
      "CC and CXX: /opt/conda/envs/jupyter/bin/x86_64-conda-linux-gnu-gcc, /opt/conda/envs/jupyter/bin/x86_64-conda-linux-gnu-c++ \n",
      "Found gcc 10.4\n",
      "gcc>=5, using the major as version\n",
      "\n",
      "************************* WARNING: GCC OLD ABI COMPATIBILITY ***********************\n",
      " \n",
      "Conan detected a GCC version > 5 but has adjusted the 'compiler.libcxx' setting to\n",
      "'libstdc++' for backwards compatibility.\n",
      "Your compiler is likely using the new CXX11 ABI by default (libstdc++11).\n",
      "\n",
      "If you want Conan to use the new ABI for the default profile, run:\n",
      "\n",
      "    $ conan profile update settings.compiler.libcxx=libstdc++11 default\n",
      "\n",
      "Or edit '/tmp/tmpk4pdyiih/deps/openassetio/conan/.conan/profiles/default' and set compiler.libcxx=libstdc++11\n",
      "\n",
      "************************************************************************************\n",
      "\n",
      "\n",
      "\n",
      "Default settings\n",
      "\tos=Linux\n",
      "\tos_build=Linux\n",
      "\tarch=x86_64\n",
      "\tarch_build=x86_64\n",
      "\tcompiler=gcc\n",
      "\tcompiler.version=10\n",
      "\tcompiler.libcxx=libstdc++\n",
      "\tbuild_type=Release\n",
      "*** You can change them in /tmp/tmpk4pdyiih/deps/openassetio/conan/.conan/profiles/default ***\n",
      "*** Or override with -s compiler='other' -s ...s***\n",
      "\n",
      "\n",
      "WARN: Remotes registry file missing, creating default one in /tmp/tmpk4pdyiih/deps/openassetio/conan/.conan/remotes.json\n",
      "Configuration:\n",
      "[settings]\n",
      "arch=x86_64\n",
      "arch_build=x86_64\n",
      "build_type=Release\n",
      "compiler=gcc\n",
      "compiler.libcxx=libstdc++\n",
      "compiler.version=10\n",
      "os=Linux\n",
      "os_build=Linux\n",
      "[options]\n",
      "[build_requires]\n",
      "[env]\n",
      "\n",
      "pybind11/2.10.1: Not found in local cache, looking in remotes...\n",
      "pybind11/2.10.1: Trying with 'conancenter'...\n",
      "Downloading conanmanifest.txt\n",
      "Downloading conanfile.py\n",
      "Downloading conan_export.tgz\n",
      "pybind11/2.10.1: Downloaded recipe revision 0\n",
      "tomlplusplus/3.2.0: Not found in local cache, looking in remotes...\n",
      "tomlplusplus/3.2.0: Trying with 'conancenter'...\n",
      "Downloading conanmanifest.txt\n",
      "Downloading conanfile.py\n",
      "Downloading conan_export.tgz\n",
      "tomlplusplus/3.2.0: Downloaded recipe revision 0\n",
      "catch2/2.13.8: Not found in local cache, looking in remotes...\n",
      "catch2/2.13.8: Trying with 'conancenter'...\n",
      "Downloading conanmanifest.txt\n",
      "Downloading conanfile.py\n",
      "Downloading conan_export.tgz\n",
      "catch2/2.13.8: Downloaded recipe revision 0\n",
      "trompeloeil/42: Not found in local cache, looking in remotes...\n",
      "trompeloeil/42: Trying with 'conancenter'...\n",
      "Downloading conanmanifest.txt\n",
      "Downloading conanfile.py\n",
      "Downloading conan_export.tgz\n",
      "trompeloeil/42: Downloaded recipe revision 0\n",
      "conanfile.py: Installing package\n",
      "Requirements\n",
      "    catch2/2.13.8 from 'conancenter' - Downloaded\n",
      "    pybind11/2.10.1 from 'conancenter' - Downloaded\n",
      "    tomlplusplus/3.2.0 from 'conancenter' - Downloaded\n",
      "    trompeloeil/42 from 'conancenter' - Downloaded\n",
      "Packages\n",
      "    catch2/2.13.8:5ab84d6acfe1f23c4fae0ab88f26e3a396351ac9 - Download\n",
      "    pybind11/2.10.1:5ab84d6acfe1f23c4fae0ab88f26e3a396351ac9 - Download\n",
      "    tomlplusplus/3.2.0:5ab84d6acfe1f23c4fae0ab88f26e3a396351ac9 - Download\n",
      "    trompeloeil/42:5ab84d6acfe1f23c4fae0ab88f26e3a396351ac9 - Download\n",
      "\n",
      "Installing (downloading, building) binaries...\n",
      "catch2/2.13.8: Retrieving package 5ab84d6acfe1f23c4fae0ab88f26e3a396351ac9 from remote 'conancenter' \n",
      "Downloading conanmanifest.txt\n",
      "Downloading conaninfo.txt\n",
      "Downloading conan_package.tgz\n",
      "catch2/2.13.8: Package installed 5ab84d6acfe1f23c4fae0ab88f26e3a396351ac9\n",
      "catch2/2.13.8: Downloaded package revision 0\n",
      "pybind11/2.10.1: Retrieving package 5ab84d6acfe1f23c4fae0ab88f26e3a396351ac9 from remote 'conancenter' \n",
      "Downloading conanmanifest.txt\n",
      "Downloading conaninfo.txt\n",
      "Downloading conan_package.tgz\n",
      "pybind11/2.10.1: Package installed 5ab84d6acfe1f23c4fae0ab88f26e3a396351ac9\n",
      "pybind11/2.10.1: Downloaded package revision 0\n",
      "tomlplusplus/3.2.0: Retrieving package 5ab84d6acfe1f23c4fae0ab88f26e3a396351ac9 from remote 'conancenter' \n",
      "Downloading conanmanifest.txt\n",
      "Downloading conaninfo.txt\n",
      "Downloading conan_package.tgz\n",
      "tomlplusplus/3.2.0: Package installed 5ab84d6acfe1f23c4fae0ab88f26e3a396351ac9\n",
      "tomlplusplus/3.2.0: Downloaded package revision 0\n",
      "trompeloeil/42: Retrieving package 5ab84d6acfe1f23c4fae0ab88f26e3a396351ac9 from remote 'conancenter' \n",
      "Downloading conanmanifest.txt\n",
      "Downloading conaninfo.txt\n",
      "Downloading conan_package.tgz\n",
      "trompeloeil/42: Package installed 5ab84d6acfe1f23c4fae0ab88f26e3a396351ac9\n",
      "trompeloeil/42: Downloaded package revision 0\n",
      "conanfile.py: Generator txt created conanbuildinfo.txt\n",
      "conanfile.py: Generator cmake_paths created conan_paths.cmake\n",
      "conanfile.py: Calling generate()\n",
      "conanfile.py: WARN: Using the new toolchains and generators without specifying a build profile (e.g: -pr:b=default) is discouraged and might cause failures and unexpected behavior\n",
      "conanfile.py: Aggregating env generators\n",
      "conanfile.py: Generated conaninfo.txt\n",
      "conanfile.py: Generated graphinfo\n",
      "-- Setting build type to 'Release' as none was specified.\n",
      "-- The C compiler identification is GNU 10.4.0\n",
      "-- The CXX compiler identification is GNU 10.4.0\n",
      "-- Detecting C compiler ABI info\n",
      "-- Detecting C compiler ABI info - done\n",
      "-- Check for working C compiler: /opt/conda/envs/jupyter/bin/x86_64-conda-linux-gnu-gcc - skipped\n",
      "-- Detecting C compile features\n",
      "-- Detecting C compile features - done\n",
      "-- Detecting CXX compiler ABI info\n",
      "-- Detecting CXX compiler ABI info - done\n",
      "-- Check for working CXX compiler: /opt/conda/envs/jupyter/bin/x86_64-conda-linux-gnu-c++ - skipped\n",
      "-- Detecting CXX compile features\n",
      "-- Detecting CXX compile features - done\n",
      "-- Conan: Target declared 'tomlplusplus::tomlplusplus'\n",
      "-- Found Python: /home/dave/workspace/cloud/assetapi/OpenAssetIO/doc/jupyter-notebooks/.tox/dependencies/bin/python3.11 (found version \"3.11.4\") found components: Interpreter Development.Module \n",
      "-- Conan: Component target declared 'pybind11::headers'\n",
      "-- Conan: Component target declared 'pybind11::pybind11'\n",
      "-- Conan: Component target declared 'pybind11::embed'\n",
      "-- Conan: Component target declared 'pybind11::module'\n",
      "-- Conan: Component target declared 'pybind11::python_link_helper'\n",
      "-- Conan: Component target declared 'pybind11::windows_extras'\n",
      "-- Conan: Component target declared 'pybind11::lto'\n",
      "-- Conan: Component target declared 'pybind11::thin_lto'\n",
      "-- Conan: Component target declared 'pybind11::opt_size'\n",
      "-- Conan: Component target declared 'pybind11::python2_no_register'\n",
      "-- Conan: Target declared 'pybind11_all_do_not_use'\n",
      "-- Conan: Including build module from '/tmp/tmpk4pdyiih/deps/openassetio/conan/.conan/data/pybind11/2.10.1/_/_/package/5ab84d6acfe1f23c4fae0ab88f26e3a396351ac9/lib/cmake/pybind11/pybind11Common.cmake'\n",
      "-- Performing Test HAS_FLTO\n",
      "-- Performing Test HAS_FLTO - Success\n",
      "-- Configuring OpenAssetIO 1.0.0\n",
      "-- An open-source interoperability standard for tools and content management systems used in media production.\n",
      "-- CMake 3.26.4\n",
      "-- Project build dir               = /tmp/tmpk4pdyiih/deps/openassetio/build\n",
      "-- Install prefix                  = /home/dave/workspace/cloud/assetapi/OpenAssetIO/doc/jupyter-notebooks/.tox/dependencies\n",
      "-- Configuration types             = \n",
      "-- Build type                      = Release\n",
      "-- Build shared libs               = ON\n",
      "-- Enable Python module build      = ON\n",
      "-- Python relative install dir     = lib/python3.11/site-packages\n",
      "-- Create test targets             = OFF\n",
      "-- Create Python venv during tests = OFF\n",
      "-- Warnings as errors              = OFF\n",
      "-- Interprocedural optimization    = ON\n",
      "-- Enable PIC for static libs      = ON\n",
      "-- New C++11 ABI for gcc           = ON\n",
      "-- RUNPATH rather than RPATH       = OFF\n",
      "-- Coverage reports                = OFF\n",
      "-- Sanitizer: Address              = OFF\n",
      "-- Sanitizer: Leak                 = OFF\n",
      "-- Sanitizer: Undefined behavior   = OFF\n",
      "-- Sanitizer: Thread               = OFF\n",
      "-- Sanitizer: Memory               = OFF\n",
      "-- Linter: clang-tidy              = OFF []\n",
      "-- Linter: cpplint                 = OFF []\n",
      "-- Linter: clang-format            = OFF []\n",
      "-- Performing Test COMPILER_HAS_HIDDEN_VISIBILITY\n",
      "-- Performing Test COMPILER_HAS_HIDDEN_VISIBILITY - Success\n",
      "-- Performing Test COMPILER_HAS_HIDDEN_INLINE_VISIBILITY\n",
      "-- Performing Test COMPILER_HAS_HIDDEN_INLINE_VISIBILITY - Success\n",
      "-- Performing Test COMPILER_HAS_DEPRECATED_ATTR\n",
      "-- Performing Test COMPILER_HAS_DEPRECATED_ATTR - Success\n",
      "-- Configuring done (1.6s)\n",
      "-- Generating done (0.0s)\n",
      "-- Build files have been written to: /tmp/tmpk4pdyiih/deps/openassetio/build\n",
      "[  2%] Building CXX object src/openassetio-core/CMakeFiles/openassetio-core.dir/src/TraitsData.cpp.o\n",
      "[  7%] Building CXX object src/openassetio-core/CMakeFiles/openassetio-core.dir/src/Context.cpp.o\n",
      "[  7%] Building CXX object src/openassetio-core/CMakeFiles/openassetio-core.dir/src/hostApi/HostInterface.cpp.o\n",
      "[ 10%] Building CXX object src/openassetio-core/CMakeFiles/openassetio-core.dir/src/hostApi/Manager.cpp.o\n",
      "[ 13%] Building CXX object src/openassetio-core/CMakeFiles/openassetio-core.dir/src/hostApi/ManagerFactory.cpp.o\n",
      "[ 15%] Building CXX object src/openassetio-core/CMakeFiles/openassetio-core.dir/src/managerApi/HostSession.cpp.o\n",
      "[ 18%] Building CXX object src/openassetio-core/CMakeFiles/openassetio-core.dir/src/hostApi/EntityReferencePager.cpp.o\n",
      "[ 21%] Building CXX object src/openassetio-core/CMakeFiles/openassetio-core.dir/src/log/SeverityFilter.cpp.o\n",
      "[ 23%] Building CXX object src/openassetio-core/CMakeFiles/openassetio-core.dir/src/log/LoggerInterface.cpp.o\n",
      "[ 26%] Building CXX object src/openassetio-core/CMakeFiles/openassetio-core.dir/src/hostApi/ManagerImplementationFactoryInterface.cpp.o\n",
      "[ 28%] Building CXX object src/openassetio-core/CMakeFiles/openassetio-core.dir/src/managerApi/Host.cpp.o\n",
      "[ 31%] Building CXX object src/openassetio-core/CMakeFiles/openassetio-core.dir/src/managerApi/ManagerInterface.cpp.o\n",
      "[ 34%] Building CXX object src/openassetio-core/CMakeFiles/openassetio-core.dir/src/managerApi/EntityReferencePagerInterface.cpp.o\n",
      "[ 36%] Building CXX object src/openassetio-core/CMakeFiles/openassetio-core.dir/src/log/ConsoleLogger.cpp.o\n",
      "[ 39%] Linking CXX shared library ../../lib/libopenassetio.so\n",
      "[ 39%] Built target openassetio-core\n",
      "[ 42%] Building CXX object src/openassetio-python/bridge/CMakeFiles/openassetio-python-bridge.dir/src/python/converter.cpp.o\n",
      "[ 44%] Building CXX object src/openassetio-python/cmodule/CMakeFiles/openassetio-python-module.dir/src/ContextBinding.cpp.o\n",
      "[ 47%] Building CXX object src/openassetio-python/bridge/CMakeFiles/openassetio-python-bridge.dir/src/python/hostApi.cpp.o\n",
      "[ 50%] Building CXX object src/openassetio-python/cmodule/CMakeFiles/openassetio-python-module.dir/src/constantsBinding.cpp.o\n",
      "[ 52%] Building CXX object src/openassetio-python/cmodule/CMakeFiles/openassetio-python-module.dir/src/EntityReferenceBinding.cpp.o\n",
      "[ 55%] Building CXX object src/openassetio-python/cmodule/CMakeFiles/openassetio-python-module.dir/src/TraitsDataBinding.cpp.o\n",
      "[ 57%] Building CXX object src/openassetio-python/cmodule/CMakeFiles/openassetio-python-module.dir/src/_openassetio.cpp.o\n",
      "[ 60%] Building CXX object src/openassetio-python/cmodule/CMakeFiles/openassetio-python-module.dir/src/BatchElementErrorBinding.cpp.o\n",
      "[ 63%] Building CXX object src/openassetio-python/cmodule/CMakeFiles/openassetio-python-module.dir/src/hostApi/EntityReferencePagerBinding.cpp.o\n",
      "[ 65%] Building CXX object src/openassetio-python/cmodule/CMakeFiles/openassetio-python-module.dir/src/hostApi/ManagerBinding.cpp.o\n",
      "[ 68%] Building CXX object src/openassetio-python/cmodule/CMakeFiles/openassetio-python-module.dir/src/hostApi/HostInterfaceBinding.cpp.o\n",
      "[ 71%] Building CXX object src/openassetio-python/cmodule/CMakeFiles/openassetio-python-module.dir/src/hostApi/ManagerImplementationFactoryInterfaceBinding.cpp.o\n",
      "[ 73%] Building CXX object src/openassetio-python/cmodule/CMakeFiles/openassetio-python-module.dir/src/log/ConsoleLoggerBinding.cpp.o\n",
      "[ 76%] Building CXX object src/openassetio-python/cmodule/CMakeFiles/openassetio-python-module.dir/src/log/LoggerInterfaceBinding.cpp.o\n",
      "[ 78%] Building CXX object src/openassetio-python/cmodule/CMakeFiles/openassetio-python-module.dir/src/hostApi/ManagerFactoryBinding.cpp.o\n",
      "[ 81%] Building CXX object src/openassetio-python/cmodule/CMakeFiles/openassetio-python-module.dir/src/log/SeverityFilterBinding.cpp.o\n",
      "[ 84%] Building CXX object src/openassetio-python/cmodule/CMakeFiles/openassetio-python-module.dir/src/managerApi/HostBinding.cpp.o\n",
      "[ 86%] Building CXX object src/openassetio-python/cmodule/CMakeFiles/openassetio-python-module.dir/src/managerApi/HostSessionBinding.cpp.o\n",
      "[ 89%] Building CXX object src/openassetio-python/cmodule/CMakeFiles/openassetio-python-module.dir/src/managerApi/EntityReferencePagerInterfaceBinding.cpp.o\n",
      "[ 92%] Building CXX object src/openassetio-python/cmodule/CMakeFiles/openassetio-python-module.dir/src/managerApi/ManagerInterfaceBinding.cpp.o\n",
      "[ 94%] Building CXX object src/openassetio-python/cmodule/CMakeFiles/openassetio-python-module.dir/src/managerApi/ManagerStateBaseBinding.cpp.o\n",
      "[ 97%] Linking CXX shared library ../../../lib/libopenassetio-python.so\n",
      "[ 97%] Built target openassetio-python-bridge\n",
      "[100%] Linking CXX shared module ../../../lib/python3.11/site-packages/openassetio/_openassetio.cpython-311-x86_64-linux-gnu.so\n",
      "[100%] Built target openassetio-python-module\n",
      "-- Installing: /home/dave/workspace/cloud/assetapi/OpenAssetIO/doc/jupyter-notebooks/.tox/dependencies/lib/cmake/OpenAssetIO/OpenAssetIOTargets.cmake\n",
      "-- Installing: /home/dave/workspace/cloud/assetapi/OpenAssetIO/doc/jupyter-notebooks/.tox/dependencies/lib/cmake/OpenAssetIO/OpenAssetIOTargets-release.cmake\n",
      "-- Installing: /home/dave/workspace/cloud/assetapi/OpenAssetIO/doc/jupyter-notebooks/.tox/dependencies/lib/cmake/OpenAssetIO/OpenAssetIOConfig.cmake\n",
      "-- Installing: /home/dave/workspace/cloud/assetapi/OpenAssetIO/doc/jupyter-notebooks/.tox/dependencies/lib/cmake/OpenAssetIO/OpenAssetIOConfigVersion.cmake\n",
      "-- Installing: /home/dave/workspace/cloud/assetapi/OpenAssetIO/doc/jupyter-notebooks/.tox/dependencies/lib/cmake/OpenAssetIO/OpenAssetIOVariables.cmake\n",
      "-- Installing: /home/dave/workspace/cloud/assetapi/OpenAssetIO/doc/jupyter-notebooks/.tox/dependencies/include/openassetio\n",
      "-- Installing: /home/dave/workspace/cloud/assetapi/OpenAssetIO/doc/jupyter-notebooks/.tox/dependencies/include/openassetio/log\n",
      "-- Installing: /home/dave/workspace/cloud/assetapi/OpenAssetIO/doc/jupyter-notebooks/.tox/dependencies/include/openassetio/log/LoggerInterface.hpp\n",
      "-- Installing: /home/dave/workspace/cloud/assetapi/OpenAssetIO/doc/jupyter-notebooks/.tox/dependencies/include/openassetio/log/SeverityFilter.hpp\n",
      "-- Installing: /home/dave/workspace/cloud/assetapi/OpenAssetIO/doc/jupyter-notebooks/.tox/dependencies/include/openassetio/log/ConsoleLogger.hpp\n",
      "-- Installing: /home/dave/workspace/cloud/assetapi/OpenAssetIO/doc/jupyter-notebooks/.tox/dependencies/include/openassetio/trait\n",
      "-- Installing: /home/dave/workspace/cloud/assetapi/OpenAssetIO/doc/jupyter-notebooks/.tox/dependencies/include/openassetio/trait/property.hpp\n",
      "-- Installing: /home/dave/workspace/cloud/assetapi/OpenAssetIO/doc/jupyter-notebooks/.tox/dependencies/include/openassetio/trait/collection.hpp\n",
      "-- Installing: /home/dave/workspace/cloud/assetapi/OpenAssetIO/doc/jupyter-notebooks/.tox/dependencies/include/openassetio/Context.hpp\n",
      "-- Installing: /home/dave/workspace/cloud/assetapi/OpenAssetIO/doc/jupyter-notebooks/.tox/dependencies/include/openassetio/errors.h\n",
      "-- Installing: /home/dave/workspace/cloud/assetapi/OpenAssetIO/doc/jupyter-notebooks/.tox/dependencies/include/openassetio/BatchElementError.hpp\n",
      "-- Installing: /home/dave/workspace/cloud/assetapi/OpenAssetIO/doc/jupyter-notebooks/.tox/dependencies/include/openassetio/constants.hpp\n",
      "-- Installing: /home/dave/workspace/cloud/assetapi/OpenAssetIO/doc/jupyter-notebooks/.tox/dependencies/include/openassetio/EntityReference.hpp\n",
      "-- Installing: /home/dave/workspace/cloud/assetapi/OpenAssetIO/doc/jupyter-notebooks/.tox/dependencies/include/openassetio/typedefs.hpp\n",
      "-- Installing: /home/dave/workspace/cloud/assetapi/OpenAssetIO/doc/jupyter-notebooks/.tox/dependencies/include/openassetio/hostApi\n",
      "-- Installing: /home/dave/workspace/cloud/assetapi/OpenAssetIO/doc/jupyter-notebooks/.tox/dependencies/include/openassetio/hostApi/ManagerFactory.hpp\n",
      "-- Installing: /home/dave/workspace/cloud/assetapi/OpenAssetIO/doc/jupyter-notebooks/.tox/dependencies/include/openassetio/hostApi/ManagerImplementationFactoryInterface.hpp\n",
      "-- Installing: /home/dave/workspace/cloud/assetapi/OpenAssetIO/doc/jupyter-notebooks/.tox/dependencies/include/openassetio/hostApi/HostInterface.hpp\n",
      "-- Installing: /home/dave/workspace/cloud/assetapi/OpenAssetIO/doc/jupyter-notebooks/.tox/dependencies/include/openassetio/hostApi/EntityReferencePager.hpp\n",
      "-- Installing: /home/dave/workspace/cloud/assetapi/OpenAssetIO/doc/jupyter-notebooks/.tox/dependencies/include/openassetio/hostApi/Manager.hpp\n",
      "-- Installing: /home/dave/workspace/cloud/assetapi/OpenAssetIO/doc/jupyter-notebooks/.tox/dependencies/include/openassetio/managerApi\n",
      "-- Installing: /home/dave/workspace/cloud/assetapi/OpenAssetIO/doc/jupyter-notebooks/.tox/dependencies/include/openassetio/managerApi/Host.hpp\n",
      "-- Installing: /home/dave/workspace/cloud/assetapi/OpenAssetIO/doc/jupyter-notebooks/.tox/dependencies/include/openassetio/managerApi/ManagerStateBase.hpp\n",
      "-- Installing: /home/dave/workspace/cloud/assetapi/OpenAssetIO/doc/jupyter-notebooks/.tox/dependencies/include/openassetio/managerApi/HostSession.hpp\n",
      "-- Installing: /home/dave/workspace/cloud/assetapi/OpenAssetIO/doc/jupyter-notebooks/.tox/dependencies/include/openassetio/managerApi/EntityReferencePagerInterface.hpp\n",
      "-- Installing: /home/dave/workspace/cloud/assetapi/OpenAssetIO/doc/jupyter-notebooks/.tox/dependencies/include/openassetio/managerApi/ManagerInterface.hpp\n",
      "-- Installing: /home/dave/workspace/cloud/assetapi/OpenAssetIO/doc/jupyter-notebooks/.tox/dependencies/include/openassetio/InfoDictionary.hpp\n",
      "-- Installing: /home/dave/workspace/cloud/assetapi/OpenAssetIO/doc/jupyter-notebooks/.tox/dependencies/include/openassetio/TraitsData.hpp\n",
      "-- Installing: /home/dave/workspace/cloud/assetapi/OpenAssetIO/doc/jupyter-notebooks/.tox/dependencies/lib/libopenassetio.so.1.0.0\n",
      "-- Installing: /home/dave/workspace/cloud/assetapi/OpenAssetIO/doc/jupyter-notebooks/.tox/dependencies/lib/libopenassetio.so.1.0\n",
      "-- Set runtime path of \"/home/dave/workspace/cloud/assetapi/OpenAssetIO/doc/jupyter-notebooks/.tox/dependencies/lib/libopenassetio.so.1.0.0\" to \"$ORIGIN\"\n",
      "-- Installing: /home/dave/workspace/cloud/assetapi/OpenAssetIO/doc/jupyter-notebooks/.tox/dependencies/lib/libopenassetio.so\n",
      "-- Installing: /home/dave/workspace/cloud/assetapi/OpenAssetIO/doc/jupyter-notebooks/.tox/dependencies/include/openassetio/export.h\n",
      "-- Installing: /home/dave/workspace/cloud/assetapi/OpenAssetIO/doc/jupyter-notebooks/.tox/dependencies/include/openassetio/python\n",
      "-- Installing: /home/dave/workspace/cloud/assetapi/OpenAssetIO/doc/jupyter-notebooks/.tox/dependencies/include/openassetio/python/converter.hpp\n",
      "-- Installing: /home/dave/workspace/cloud/assetapi/OpenAssetIO/doc/jupyter-notebooks/.tox/dependencies/include/openassetio/python/hostApi.hpp\n",
      "-- Installing: /home/dave/workspace/cloud/assetapi/OpenAssetIO/doc/jupyter-notebooks/.tox/dependencies/lib/libopenassetio-python.so.1.0.0\n",
      "-- Installing: /home/dave/workspace/cloud/assetapi/OpenAssetIO/doc/jupyter-notebooks/.tox/dependencies/lib/libopenassetio-python.so.1.0\n",
      "-- Set runtime path of \"/home/dave/workspace/cloud/assetapi/OpenAssetIO/doc/jupyter-notebooks/.tox/dependencies/lib/libopenassetio-python.so.1.0.0\" to \"$ORIGIN\"\n",
      "-- Installing: /home/dave/workspace/cloud/assetapi/OpenAssetIO/doc/jupyter-notebooks/.tox/dependencies/lib/libopenassetio-python.so\n",
      "-- Installing: /home/dave/workspace/cloud/assetapi/OpenAssetIO/doc/jupyter-notebooks/.tox/dependencies/include/openassetio/python/export.h\n",
      "-- Installing: /home/dave/workspace/cloud/assetapi/OpenAssetIO/doc/jupyter-notebooks/.tox/dependencies/lib/python3.11/site-packages/openassetio/_openassetio.cpython-311-x86_64-linux-gnu.so\n",
      "-- Set runtime path of \"/home/dave/workspace/cloud/assetapi/OpenAssetIO/doc/jupyter-notebooks/.tox/dependencies/lib/python3.11/site-packages/openassetio/_openassetio.cpython-311-x86_64-linux-gnu.so\" to \"$ORIGIN/../../../\"\n",
      "-- Installing: /home/dave/workspace/cloud/assetapi/OpenAssetIO/doc/jupyter-notebooks/.tox/dependencies/lib/python3.11/site-packages/openassetio/_core\n",
      "-- Installing: /home/dave/workspace/cloud/assetapi/OpenAssetIO/doc/jupyter-notebooks/.tox/dependencies/lib/python3.11/site-packages/openassetio/_core/audit.py\n",
      "-- Installing: /home/dave/workspace/cloud/assetapi/OpenAssetIO/doc/jupyter-notebooks/.tox/dependencies/lib/python3.11/site-packages/openassetio/_core/objects.py\n",
      "-- Installing: /home/dave/workspace/cloud/assetapi/OpenAssetIO/doc/jupyter-notebooks/.tox/dependencies/lib/python3.11/site-packages/openassetio/_core/__init__.py\n",
      "-- Installing: /home/dave/workspace/cloud/assetapi/OpenAssetIO/doc/jupyter-notebooks/.tox/dependencies/lib/python3.11/site-packages/openassetio/_core/debug.py\n",
      "-- Installing: /home/dave/workspace/cloud/assetapi/OpenAssetIO/doc/jupyter-notebooks/.tox/dependencies/lib/python3.11/site-packages/openassetio/__init__.py\n",
      "-- Installing: /home/dave/workspace/cloud/assetapi/OpenAssetIO/doc/jupyter-notebooks/.tox/dependencies/lib/python3.11/site-packages/openassetio/pluginSystem\n",
      "-- Installing: /home/dave/workspace/cloud/assetapi/OpenAssetIO/doc/jupyter-notebooks/.tox/dependencies/lib/python3.11/site-packages/openassetio/pluginSystem/__init__.py\n",
      "-- Installing: /home/dave/workspace/cloud/assetapi/OpenAssetIO/doc/jupyter-notebooks/.tox/dependencies/lib/python3.11/site-packages/openassetio/pluginSystem/PythonPluginSystemManagerPlugin.py\n",
      "-- Installing: /home/dave/workspace/cloud/assetapi/OpenAssetIO/doc/jupyter-notebooks/.tox/dependencies/lib/python3.11/site-packages/openassetio/pluginSystem/PythonPluginSystem.py\n",
      "-- Installing: /home/dave/workspace/cloud/assetapi/OpenAssetIO/doc/jupyter-notebooks/.tox/dependencies/lib/python3.11/site-packages/openassetio/pluginSystem/PythonPluginSystemManagerImplementationFactory.py\n",
      "-- Installing: /home/dave/workspace/cloud/assetapi/OpenAssetIO/doc/jupyter-notebooks/.tox/dependencies/lib/python3.11/site-packages/openassetio/pluginSystem/PythonPluginSystemPlugin.py\n",
      "-- Installing: /home/dave/workspace/cloud/assetapi/OpenAssetIO/doc/jupyter-notebooks/.tox/dependencies/lib/python3.11/site-packages/openassetio/exceptions.py\n",
      "-- Installing: /home/dave/workspace/cloud/assetapi/OpenAssetIO/doc/jupyter-notebooks/.tox/dependencies/lib/python3.11/site-packages/openassetio/hostApi\n",
      "-- Installing: /home/dave/workspace/cloud/assetapi/OpenAssetIO/doc/jupyter-notebooks/.tox/dependencies/lib/python3.11/site-packages/openassetio/hostApi/Manager.py\n",
      "-- Installing: /home/dave/workspace/cloud/assetapi/OpenAssetIO/doc/jupyter-notebooks/.tox/dependencies/lib/python3.11/site-packages/openassetio/hostApi/__init__.py\n",
      "-- Installing: /home/dave/workspace/cloud/assetapi/OpenAssetIO/doc/jupyter-notebooks/.tox/dependencies/lib/python3.11/site-packages/openassetio/hostApi/ManagerFactory.py\n",
      "-- Installing: /home/dave/workspace/cloud/assetapi/OpenAssetIO/doc/jupyter-notebooks/.tox/dependencies/lib/python3.11/site-packages/openassetio/hostApi/terminology.py\n",
      "-- Installing: /home/dave/workspace/cloud/assetapi/OpenAssetIO/doc/jupyter-notebooks/.tox/dependencies/lib/python3.11/site-packages/openassetio/managerApi\n",
      "-- Installing: /home/dave/workspace/cloud/assetapi/OpenAssetIO/doc/jupyter-notebooks/.tox/dependencies/lib/python3.11/site-packages/openassetio/managerApi/ManagerInterface.py\n",
      "-- Installing: /home/dave/workspace/cloud/assetapi/OpenAssetIO/doc/jupyter-notebooks/.tox/dependencies/lib/python3.11/site-packages/openassetio/managerApi/__init__.py\n",
      "-- Installing: /home/dave/workspace/cloud/assetapi/OpenAssetIO/doc/jupyter-notebooks/.tox/dependencies/lib/python3.11/site-packages/openassetio/test\n",
      "-- Installing: /home/dave/workspace/cloud/assetapi/OpenAssetIO/doc/jupyter-notebooks/.tox/dependencies/lib/python3.11/site-packages/openassetio/test/__init__.py\n",
      "-- Installing: /home/dave/workspace/cloud/assetapi/OpenAssetIO/doc/jupyter-notebooks/.tox/dependencies/lib/python3.11/site-packages/openassetio/test/manager\n",
      "-- Installing: /home/dave/workspace/cloud/assetapi/OpenAssetIO/doc/jupyter-notebooks/.tox/dependencies/lib/python3.11/site-packages/openassetio/test/manager/__init__.py\n",
      "-- Installing: /home/dave/workspace/cloud/assetapi/OpenAssetIO/doc/jupyter-notebooks/.tox/dependencies/lib/python3.11/site-packages/openassetio/test/manager/__main__.py\n",
      "-- Installing: /home/dave/workspace/cloud/assetapi/OpenAssetIO/doc/jupyter-notebooks/.tox/dependencies/lib/python3.11/site-packages/openassetio/test/manager/harness.py\n",
      "-- Installing: /home/dave/workspace/cloud/assetapi/OpenAssetIO/doc/jupyter-notebooks/.tox/dependencies/lib/python3.11/site-packages/openassetio/test/manager/_implementation.py\n",
      "-- Installing: /home/dave/workspace/cloud/assetapi/OpenAssetIO/doc/jupyter-notebooks/.tox/dependencies/lib/python3.11/site-packages/openassetio/test/manager/apiComplianceSuite.py\n",
      "-- Installing: /home/dave/workspace/cloud/assetapi/OpenAssetIO/doc/jupyter-notebooks/.tox/dependencies/lib/python3.11/site-packages/openassetio/log.py\n",
      "Cloning into 'src'...\n",
      "-- The C compiler identification is GNU 10.4.0\n",
      "-- The CXX compiler identification is GNU 10.4.0\n",
      "-- Detecting C compiler ABI info\n",
      "-- Detecting C compiler ABI info - done\n",
      "-- Check for working C compiler: /opt/conda/envs/jupyter/bin/x86_64-conda-linux-gnu-gcc - skipped\n",
      "-- Detecting C compile features\n",
      "-- Detecting C compile features - done\n",
      "-- Detecting CXX compiler ABI info\n",
      "-- Detecting CXX compiler ABI info - done\n",
      "-- Check for working CXX compiler: /opt/conda/envs/jupyter/bin/x86_64-conda-linux-gnu-c++ - skipped\n",
      "-- Detecting CXX compile features\n",
      "-- Detecting CXX compile features - done\n",
      "-- Test enabled = OFF\n",
      "-- Generate python library = OFF\n",
      "Generating Traits with openassetio-traitgen\n",
      "-- New C++11 ABI for GCC = OFF\n",
      "'openassetio-traitgen' '/tmp/tmpk4pdyiih/deps/mediacreation/build/traits.yml' '-o' '/tmp/tmpk4pdyiih/deps/mediacreation/build/cpp' '-g' 'cpp'\n",
      "-- Configuring done (0.3s)\n",
      "-- Generating done (0.0s)\n",
      "-- Build files have been written to: /tmp/tmpk4pdyiih/deps/mediacreation/build\n",
      "ninja: no work to do.\n",
      "-- Installing: /home/dave/workspace/cloud/assetapi/OpenAssetIO/doc/jupyter-notebooks/.tox/dependencies/lib/cmake/OpenAssetIO-MediaCreation/OpenAssetIO-MediaCreationTargets.cmake\n",
      "-- Installing: /home/dave/workspace/cloud/assetapi/OpenAssetIO/doc/jupyter-notebooks/.tox/dependencies/lib/cmake/OpenAssetIO-MediaCreation/OpenAssetIO-MediaCreationConfig.cmake\n",
      "-- Installing: /home/dave/workspace/cloud/assetapi/OpenAssetIO/doc/jupyter-notebooks/.tox/dependencies/lib/cmake/OpenAssetIO-MediaCreation/OpenAssetIO-MediaCreationConfigVersion.cmake\n",
      "-- Up-to-date: /home/dave/workspace/cloud/assetapi/OpenAssetIO/doc/jupyter-notebooks/.tox/dependencies/./include\n",
      "-- Installing: /home/dave/workspace/cloud/assetapi/OpenAssetIO/doc/jupyter-notebooks/.tox/dependencies/./include/openassetio_mediacreation\n",
      "-- Installing: /home/dave/workspace/cloud/assetapi/OpenAssetIO/doc/jupyter-notebooks/.tox/dependencies/./include/openassetio_mediacreation/openassetio_mediacreation.hpp\n",
      "-- Installing: /home/dave/workspace/cloud/assetapi/OpenAssetIO/doc/jupyter-notebooks/.tox/dependencies/./include/openassetio_mediacreation/traits\n",
      "-- Installing: /home/dave/workspace/cloud/assetapi/OpenAssetIO/doc/jupyter-notebooks/.tox/dependencies/./include/openassetio_mediacreation/traits/traits.hpp\n",
      "-- Installing: /home/dave/workspace/cloud/assetapi/OpenAssetIO/doc/jupyter-notebooks/.tox/dependencies/./include/openassetio_mediacreation/traits/auth.hpp\n",
      "-- Installing: /home/dave/workspace/cloud/assetapi/OpenAssetIO/doc/jupyter-notebooks/.tox/dependencies/./include/openassetio_mediacreation/traits/content.hpp\n",
      "-- Installing: /home/dave/workspace/cloud/assetapi/OpenAssetIO/doc/jupyter-notebooks/.tox/dependencies/./include/openassetio_mediacreation/traits/content\n",
      "-- Installing: /home/dave/workspace/cloud/assetapi/OpenAssetIO/doc/jupyter-notebooks/.tox/dependencies/./include/openassetio_mediacreation/traits/content/LocatableContentTrait.hpp\n",
      "-- Installing: /home/dave/workspace/cloud/assetapi/OpenAssetIO/doc/jupyter-notebooks/.tox/dependencies/./include/openassetio_mediacreation/traits/auth\n",
      "-- Installing: /home/dave/workspace/cloud/assetapi/OpenAssetIO/doc/jupyter-notebooks/.tox/dependencies/./include/openassetio_mediacreation/traits/auth/BearerTokenTrait.hpp\n",
      "-- Installing: /home/dave/workspace/cloud/assetapi/OpenAssetIO/doc/jupyter-notebooks/.tox/dependencies/./include/openassetio_mediacreation/traits/identity.hpp\n",
      "-- Installing: /home/dave/workspace/cloud/assetapi/OpenAssetIO/doc/jupyter-notebooks/.tox/dependencies/./include/openassetio_mediacreation/traits/managementPolicy.hpp\n",
      "-- Installing: /home/dave/workspace/cloud/assetapi/OpenAssetIO/doc/jupyter-notebooks/.tox/dependencies/./include/openassetio_mediacreation/traits/managementPolicy\n",
      "-- Installing: /home/dave/workspace/cloud/assetapi/OpenAssetIO/doc/jupyter-notebooks/.tox/dependencies/./include/openassetio_mediacreation/traits/managementPolicy/ManagedTrait.hpp\n",
      "-- Installing: /home/dave/workspace/cloud/assetapi/OpenAssetIO/doc/jupyter-notebooks/.tox/dependencies/./include/openassetio_mediacreation/traits/managementPolicy/ResolvesFutureEntitiesTrait.hpp\n",
      "-- Installing: /home/dave/workspace/cloud/assetapi/OpenAssetIO/doc/jupyter-notebooks/.tox/dependencies/./include/openassetio_mediacreation/traits/identity\n",
      "-- Installing: /home/dave/workspace/cloud/assetapi/OpenAssetIO/doc/jupyter-notebooks/.tox/dependencies/./include/openassetio_mediacreation/traits/identity/DisplayNameTrait.hpp\n",
      "-- Installing: /home/dave/workspace/cloud/assetapi/OpenAssetIO/doc/jupyter-notebooks/.tox/dependencies/share/openassetio-traitgen/openassetio-mediacreation.yml\n",
      "Installing dependencies to /home/dave/workspace/cloud/assetapi/OpenAssetIO/doc/jupyter-notebooks/.tox/dependencies\n",
      "Placing temporary artifacts in /tmp/tmpk4pdyiih\n",
      "Placing Conan packages in /tmp/tmpk4pdyiih/deps/openassetio/conan\n",
      "  dependencies: OK (30.29=setup[1.64]+cmd[28.65] seconds)\n",
      "  congratulations :) (30.33 seconds)\n"
     ]
    }
   ],
   "source": [
    "!python -m tox"
   ]
  },
  {
   "cell_type": "markdown",
   "id": "ac30f199-81bf-48a6-ad05-c39d2f9c1b07",
   "metadata": {},
   "source": [
    "#### Load Python\n",
    "\n",
    "Load the Python available in the Conda environment this Notebook is running in.\n",
    "\n",
    "Use xeus-cling pragma extension to add search paths and load the library."
   ]
  },
  {
   "cell_type": "code",
   "execution_count": 2,
   "id": "995f7112-a609-4807-b0e6-fccbfbd8ceb6",
   "metadata": {},
   "outputs": [],
   "source": [
    "#pragma cling add_library_path(\"$CONDA_PREFIX/lib\")"
   ]
  },
  {
   "cell_type": "code",
   "execution_count": 3,
   "id": "7f8d478e-94df-42ed-9dbc-98ecf20d0221",
   "metadata": {},
   "outputs": [],
   "source": [
    "#pragma cling load(\"python3.11\")"
   ]
  },
  {
   "cell_type": "markdown",
   "id": "d022a1ac-8e3e-4a85-a64a-55df96035807",
   "metadata": {},
   "source": [
    "#### Load OpenAssetIO library"
   ]
  },
  {
   "cell_type": "code",
   "execution_count": 4,
   "id": "56867026-3879-466a-b1ba-29c3806a7471",
   "metadata": {},
   "outputs": [],
   "source": [
    "#pragma cling add_include_path(\".tox/dependencies/include\")\n",
    "#pragma cling add_library_path(\".tox/dependencies/lib\")"
   ]
  },
  {
   "cell_type": "code",
   "execution_count": 5,
   "id": "d18e5ed2-466e-4ec1-bd78-c77a879426a5",
   "metadata": {},
   "outputs": [],
   "source": [
    "#pragma cling load(\"openassetio-python\")"
   ]
  },
  {
   "cell_type": "markdown",
   "id": "ae5a497b-a06f-4b4d-b1bb-4d226a85d305",
   "metadata": {},
   "source": [
    "#### Update PYTHONPATH\n",
    "\n",
    "We must add the OpenAssetIO Python modules to the `PYTHONPATH`."
   ]
  },
  {
   "cell_type": "code",
   "execution_count": 6,
   "id": "f92d922e-ac23-4fd3-aecb-5ffc7c9cf5a7",
   "metadata": {},
   "outputs": [],
   "source": [
    "#include <stdlib.h>\n",
    "setenv(\"PYTHONPATH\", \".tox/dependencies/lib/python3.11/site-packages\", true);"
   ]
  },
  {
   "cell_type": "markdown",
   "id": "3344a3e5-b497-4443-8580-4d6429d60d3b",
   "metadata": {},
   "source": [
    "#### Bootstrap Python"
   ]
  },
  {
   "cell_type": "code",
   "execution_count": 7,
   "id": "0d80351f-98aa-4c12-8c21-863706b85c18",
   "metadata": {},
   "outputs": [],
   "source": [
    "#include <python3.11/Python.h>\n",
    "Py_Initialize();"
   ]
  },
  {
   "cell_type": "markdown",
   "id": "59cde55a-c9aa-47a3-828b-604ea21cd503",
   "metadata": {},
   "source": [
    "## Define a logger"
   ]
  },
  {
   "cell_type": "code",
   "execution_count": 8,
   "id": "d9b80e20-f699-42bf-bd93-efcb03a162b9",
   "metadata": {},
   "outputs": [],
   "source": [
    "#include <iostream>\n",
    "\n",
    "#include <openassetio/log/LoggerInterface.hpp>\n",
    "\n",
    "struct Logger : openassetio::log::LoggerInterface {\n",
    "  void log(Severity severity, const openassetio::Str& message) override {\n",
    "      std::cout << message << \"\\n\";\n",
    "  }\n",
    "};\n",
    "\n",
    "auto logger = std::make_shared<Logger>();"
   ]
  },
  {
   "cell_type": "markdown",
   "id": "ac28e960-f875-4fb9-9b04-834ab359a435",
   "metadata": {},
   "source": [
    "## Query Python plugins"
   ]
  },
  {
   "cell_type": "code",
   "execution_count": 9,
   "id": "673e973c-91cf-4aa1-8a33-1ae9acb8dac8",
   "metadata": {},
   "outputs": [
    {
     "name": "stdout",
     "output_type": "stream",
     "text": [
      "PythonPluginSystem: Searching packages for 'openassetio.manager_plugin' entry points.\n",
      "PythonPluginSystem: Found entry point in plugin_package_or_module\n",
      "PythonPluginSystem: Registered plug-in '<class 'openassetio_manager_bal.BasicAssetLibraryPlugin'>' from '/home/dave/workspace/cloud/assetapi/OpenAssetIO/doc/jupyter-notebooks/.tox/dependencies/lib/python3.11/site-packages/openassetio_manager_bal/__init__.py'\n"
     ]
    },
    {
     "data": {
      "text/plain": [
       "{ \"org.openassetio.examples.manager.bal\" }"
      ]
     },
     "execution_count": 9,
     "metadata": {},
     "output_type": "execute_result"
    }
   ],
   "source": [
    "#include <memory>\n",
    "\n",
    "#include <openassetio/hostApi/ManagerImplementationFactoryInterface.hpp>\n",
    "#include <openassetio/python/hostApi.hpp>\n",
    "\n",
    "const auto factory = openassetio::python::hostApi::createPythonPluginSystemManagerImplementationFactory(logger);\n",
    "const openassetio::Identifiers identifiers = factory->identifiers();\n",
    "\n",
    "identifiers"
   ]
  },
  {
   "cell_type": "markdown",
   "id": "4d2b3ac0-f9b3-48b6-a34a-ed3563e99e9b",
   "metadata": {},
   "source": [
    "## Define host interface"
   ]
  },
  {
   "cell_type": "code",
   "execution_count": 10,
   "id": "d84edc52-2529-41d8-b667-29ec462c1360",
   "metadata": {},
   "outputs": [],
   "source": [
    "#include <openassetio/hostApi/HostInterface.hpp>\n",
    "\n",
    "struct Host : openassetio::hostApi::HostInterface {\n",
    "  openassetio::Identifier identifier() const { return \"org.demo\"; }\n",
    "  openassetio::Str displayName() const { return \"Demo Host\"; }\n",
    "  openassetio::InfoDictionary info() const { return {}; }\n",
    "};\n",
    "\n",
    "const auto host = std::make_shared<Host>();"
   ]
  },
  {
   "cell_type": "markdown",
   "id": "4b6da472-2435-4986-808c-fd5f08d55827",
   "metadata": {},
   "source": [
    "## Get a manager instance\n",
    "\n",
    "Here we pass a path to the `config.toml`, we could also use the `OPENASSETIO_DEFAULT_CONFIG` environment variable."
   ]
  },
  {
   "cell_type": "code",
   "execution_count": 11,
   "id": "2b853526-9c30-463c-84a3-ac2b8153a20f",
   "metadata": {},
   "outputs": [
    {
     "name": "stdout",
     "output_type": "stream",
     "text": [
      "Loading default manager config at 'resources/config.toml'\n",
      "Instantiating org.openassetio.examples.manager.bal\n",
      "Loading library from '/home/dave/workspace/cloud/assetapi/OpenAssetIO/doc/jupyter-notebooks/resources/database.json'\n",
      "Running with simulated query latency of 10ms\n",
      "Entity reference prefix 'bal:///' provided by manager's info() dict. Subsequent calls to isEntityReferenceString will use this prefix rather than call the manager's implementation.\n"
     ]
    }
   ],
   "source": [
    "#include <openassetio/hostApi/ManagerFactory.hpp>\n",
    "\n",
    "const auto manager = openassetio::hostApi::ManagerFactory::defaultManagerForInterface(\"resources/config.toml\", host, factory, logger)"
   ]
  },
  {
   "cell_type": "markdown",
   "id": "83500ad6-3df8-451e-92cd-53bf97ff7cb2",
   "metadata": {},
   "source": [
    "## Resolve some data"
   ]
  },
  {
   "cell_type": "code",
   "execution_count": 12,
   "id": "d659d096-c1b5-4ea4-b218-7b818f8e5bcb",
   "metadata": {},
   "outputs": [
    {
     "data": {
      "text/plain": [
       "\"file:///home/dave/workspace/cloud/assetapi/OpenAssetIO/doc/jupyter-notebooks/resources/OpenAssetIO_Logo-1024x212.jpg\""
      ]
     },
     "execution_count": 12,
     "metadata": {},
     "output_type": "execute_result"
    }
   ],
   "source": [
    "#include <openassetio/hostApi/Manager.hpp>\n",
    "\n",
    "#include <openassetio_mediacreation/traits/content.hpp>\n",
    "\n",
    "using openassetio_mediacreation::traits::content::LocatableContentTrait;\n",
    "\n",
    "const openassetio::ContextPtr context = manager->createContext();\n",
    "\n",
    "const openassetio::EntityReference ref = manager->createEntityReference(\"bal:///demo_project/logos/openassetio\");\n",
    "\n",
    "const auto data = manager->resolve(ref, {LocatableContentTrait::kId}, context);\n",
    "\n",
    "std::string url = LocatableContentTrait(data).getLocation();\n",
    "\n",
    "url"
   ]
  },
  {
   "cell_type": "code",
   "execution_count": 13,
   "id": "78bb426a-19f2-4d56-a364-9b279ee7f55b",
   "metadata": {},
   "outputs": [
    {
     "data": {
      "text/plain": [
       "\"/home/dave/workspace/cloud/assetapi/OpenAssetIO/doc/jupyter-notebooks/resources/OpenAssetIO_Logo-1024x212.jpg\""
      ]
     },
     "execution_count": 13,
     "metadata": {},
     "output_type": "execute_result"
    }
   ],
   "source": [
    "auto file_path = url.substr(7);\n",
    "file_path"
   ]
  },
  {
   "cell_type": "markdown",
   "id": "38f9cb3f-1081-49b7-9f05-4da4ba846985",
   "metadata": {
    "jp-MarkdownHeadingCollapsed": true
   },
   "source": [
    "#### (boilerplate to render images in the notebook)\n",
    "\n",
    "This next snippet is from the xeus-cling docs, required in order to display images in the Notebook: https://xeus-cling.readthedocs.io/en/latest/rich_display.html"
   ]
  },
  {
   "cell_type": "code",
   "execution_count": 14,
   "id": "32015fde-3e67-4694-9078-fa5374a4ed34",
   "metadata": {},
   "outputs": [],
   "source": [
    "/**\n",
    " * Modified from: https://xeus-cling.readthedocs.io/en/latest/rich_display.html\n",
    " * \n",
    " * Why isn't this built-in ???\n",
    " */ \n",
    "\n",
    "#include <string>\n",
    "#include <fstream>\n",
    "\n",
    "#include \"xtl/xbase64.hpp\"\n",
    "#include \"nlohmann/json.hpp\"\n",
    "\n",
    "namespace nl = nlohmann;\n",
    "\n",
    "namespace im\n",
    "{\n",
    "    struct jpg\n",
    "    {\n",
    "        inline jpg(const std::string& filename)\n",
    "        {\n",
    "            std::ifstream fin(filename, std::ios::binary);\n",
    "            m_buffer << fin.rdbuf();\n",
    "        }\n",
    "\n",
    "        std::stringstream m_buffer;\n",
    "    };\n",
    "\n",
    "    nl::json mime_bundle_repr(const jpg& i)\n",
    "    {\n",
    "        auto bundle = nl::json::object();\n",
    "        bundle[\"image/jpeg\"] = xtl::base64encode(i.m_buffer.str());\n",
    "        return bundle;\n",
    "    }\n",
    "}"
   ]
  },
  {
   "cell_type": "markdown",
   "id": "e9254c17-0ae7-4d0a-b879-6df837ee0f81",
   "metadata": {},
   "source": [
    "#### Render the resolved and retrieved data"
   ]
  },
  {
   "cell_type": "code",
   "execution_count": 15,
   "id": "53611d7a-82a9-421c-8420-6c4b436bcb18",
   "metadata": {},
   "outputs": [
    {
     "data": {
      "image/jpeg": "[encoded data removed]"
     },
     "execution_count": 15,
     "metadata": {},
     "output_type": "execute_result"
    }
   ],
   "source": [
    "im::jpg logo{file_path};\n",
    "logo"
   ]
  },
  {
   "cell_type": "markdown",
   "id": "d056ee2b-16b9-4d08-a3f1-e5ffc92123cb",
   "metadata": {},
   "source": [
    "#### Shut down Python"
   ]
  },
  {
   "cell_type": "code",
   "execution_count": 16,
   "id": "7b192c44-342e-4c68-8e9b-e27c83eb2f75",
   "metadata": {},
   "outputs": [],
   "source": [
    "//Py_FinalizeEx();  // TODO(DF): is this necessary in a notebook?"
   ]
  }
 ],
 "metadata": {
  "kernelspec": {
   "display_name": "C++17",
   "language": "C++17",
   "name": "xcpp17"
  },
  "language_info": {
   "codemirror_mode": "text/x-c++src",
   "file_extension": ".cpp",
   "mimetype": "text/x-c++src",
   "name": "c++",
   "version": "17"
  }
 },
 "nbformat": 4,
 "nbformat_minor": 5
}
